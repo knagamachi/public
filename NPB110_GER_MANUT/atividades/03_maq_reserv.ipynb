{
 "cells": [
  {
   "cell_type": "code",
   "execution_count": 1,
   "metadata": {},
   "outputs": [],
   "source": [
    "import pandas as pd\n",
    "import numpy as np\n",
    "import ipywidgets as widgets\n",
    "from IPython.display import display, clear_output, HTML\n",
    "from ipywidgets import GridspecLayout\n",
    "import base64\n",
    "\n",
    "def create_expanded_button(description, button_style):\n",
    "    return widgets.Button(description=description, button_style=button_style, layout=widgets.Layout(width='auto'))\n",
    "\n",
    "\n",
    "def create_download_link_pt_br( df, title = \"Download Formato Brasileiro\", filename = \"data.csv\"):  \n",
    "    csv = df.to_csv(sep=';', decimal=',')\n",
    "    b64 = base64.b64encode(csv.encode())\n",
    "    payload = b64.decode()\n",
    "    html = '<b><a style=\"color:orange;\" download=\"{filename}\" href=\"data:text/csv;base64,{payload}\" target=\"_blank\">{title}</a></b>'\n",
    "    html = html.format(payload=payload,title=title,filename=filename)\n",
    "    return html\n",
    "\n",
    "def create_download_link_us( df, title = \"Download Formato Americano\", filename = \"data.csv\"):  \n",
    "    csv = df.to_csv(sep=',', decimal='.')\n",
    "    b64 = base64.b64encode(csv.encode())\n",
    "    payload = b64.decode()\n",
    "    html = '<b><a style=\"color:blue;\" download=\"{filename}\" href=\"data:text/csv;base64,{payload}\" target=\"_blank\">{title}</a></b>'\n",
    "    html = html.format(payload=payload,title=title,filename=filename)\n",
    "    return html"
   ]
  },
  {
   "cell_type": "code",
   "execution_count": 12,
   "metadata": {},
   "outputs": [],
   "source": [
    "# Pede a matrícula e recupera as informações de X e Y que serão usadas para a resolução do problema\n",
    "# matricula = input('Qual a sua matrícula?')\n",
    "\n",
    "matricula_l = widgets.HTML(value = 'Matricula:')\n",
    "matricula = widgets.Text(\n",
    "    value='',\n",
    "    placeholder='',\n",
    "#     description='Matricula:',\n",
    "    disabled=False,\n",
    "    layout=widgets.Layout(height='auto', width='auto')\n",
    ")\n",
    "\n",
    "\n",
    "button = create_expanded_button('Começar', 'warning')\n",
    "button_r = create_expanded_button('Resetar', 'info')\n",
    "button_r.disabled = True\n",
    "output = widgets.Output(layout={'border': '1px solid black'},width='auto')\n",
    "\n",
    "def on_button_clicked_r(b):\n",
    "    button.disabled = False\n",
    "    output.clear_output()\n",
    "#     grid[1,:15] = output\n",
    "    button_r.disabled = True\n",
    "    output.layout.visibility = 'hidden'\n",
    "\n",
    "def on_button_clicked(b):\n",
    "    button.disabled = True\n",
    "    button_r.disabled = False\n",
    "    output.layout.visibility = 'visible'\n",
    "#     grid[1,:15] = output\n",
    "    with output:\n",
    "        matri = matricula.value.replace('.','').replace('-','')\n",
    "        DIG_X = int(matri[-2:][0:1])\n",
    "        DIG_Y = int(matri[-1:])\n",
    "        \n",
    "        # Cria as tabelas fornecidas pelo enunciado\n",
    "        df = {\n",
    "            'NUM_MAQ_QUE_HR': [1,2,3,4,5,6,7,8],\n",
    "            'NUM_OCOR': [22,42,94,124,82,36,20,4]\n",
    "        }\n",
    "        df = pd.DataFrame(df, index = range(1,9))\n",
    "\n",
    "\n",
    "        df_X = {\n",
    "            'DIG_X': [0,1,2,3,4,5,6,7,8,9],\n",
    "            '$_HMP_QUEBRA': [22.2,21.6,20.2,22.4,21.8,20.5,22.6,21.2,20.8,20.4]\n",
    "        }\n",
    "        df_X = pd.DataFrame(df_X)\n",
    "\n",
    "\n",
    "        df_Y = {\n",
    "            'DIG_Y': [0,1,2,3,4,5,6,7,8,9],\n",
    "            '$_HMP_RESER': [12,14,16,18,11,13,15,17,19,10]\n",
    "        }\n",
    "        df_Y = pd.DataFrame(df_Y)\n",
    "\n",
    "        \n",
    "        \n",
    "        # Cria colunas e recupera informações da tabelas que serão usadas na solução\n",
    "\n",
    "        df['FREQ'] = df['NUM_OCOR']/df['NUM_OCOR'].sum()\n",
    "        C_HMP_QUEBRA = df_X[df_X['DIG_X'] == DIG_X].iloc[0,1]\n",
    "        C_HMP_RESER = df_Y[df_Y['DIG_Y'] == DIG_Y].iloc[0,1]\n",
    "        \n",
    "        # Cria a matrix já com a relação de subtração entre os índices fornecidos de 1 a 8 para relação de máquina reserva e máquina quebrada\n",
    "        v = np.array(df['NUM_MAQ_QUE_HR'])\n",
    "\n",
    "        arr = np.array(v[:, None] - v)\n",
    "        df_matrix = pd.DataFrame(arr, index = [1,2,3,4,5,6,7,8] ,columns = [1,2,3,4,5,6,7,8])\n",
    "        display(widgets.HTML(value = '<b style=\"color:red;\">Verifique sua matrícula: ' + \n",
    "                             matri[0:2] + '.' + matri[-7:][0:3] + '.' + matri[-4:][0:3] + '-' + matri[-1:] +\n",
    "                             '</b><br><br>' +\n",
    "                             '<b>Matrix Subtrativa |  </b>' +\n",
    "                             create_download_link_pt_br(df_matrix) + ' <b> | </b> ' +\n",
    "                             create_download_link_us(df_matrix)))\n",
    "        display(df_matrix)\n",
    "        display(widgets.HTML(value = '<br>'))\n",
    "        \n",
    "        # Relaciona o custo de quebra, custo de maquina reserva e multiplica pela frequência da tabela fornecida pelo enunciado.\n",
    "        ## Cria-se a coluna com a somatória de custo total também\n",
    "\n",
    "        df_custos_inter = df_matrix.copy()\n",
    "        for col in df_custos_inter.columns:\n",
    "            df_custos_inter[col] = list(map(lambda x: abs(x * C_HMP_RESER) if x > 0 else abs(x * C_HMP_QUEBRA), df_custos_inter[col]))\n",
    "        \n",
    "        \n",
    "        display(widgets.HTML(value = '<b>Tabela intermediária de custos , sem multiplicar a ocorrência |  </b> ' +\n",
    "                             create_download_link_pt_br(df_custos_inter) + ' <b> | </b>' +\n",
    "                             create_download_link_us(df_custos_inter)))\n",
    "        display(df_custos_inter)\n",
    "        display(widgets.HTML(value = '<br>'))\n",
    "        \n",
    "        df_custos = df_matrix.copy()\n",
    "        for col in df_custos.columns:\n",
    "            df_custos[col] = list(map(lambda x: abs(x * C_HMP_RESER) if x > 0 else abs(x * C_HMP_QUEBRA), df_custos[col]))\n",
    "            df_custos[col] = df['FREQ'].iloc[int(col)-1] * df_custos[col]\n",
    "\n",
    "        df_custos['CUSTO_TOTAL'] = df_custos.sum(axis = 1, skipna = True)\n",
    "\n",
    "        display(widgets.HTML(value = '<b>Tabela de custos finais, multiplicando a ocorrência |  </b> ' + create_download_link_pt_br(df_custos) + '<b> | </b> ' + create_download_link_us(df_custos)))\n",
    "        \n",
    "        display(df_custos)\n",
    "        \n",
    "        \n",
    "        # Gera a resposta do problema\n",
    "\n",
    "        C_Min = df_custos['CUSTO_TOTAL'].min()\n",
    "\n",
    "        N_Maquinas_Reservas = df_custos.index[df_custos['CUSTO_TOTAL'] == df_custos['CUSTO_TOTAL'].min()].tolist()[0]\n",
    "        N_Maquinas_Reservas_Final = N_Maquinas_Reservas\n",
    "\n",
    "        for a in range(N_Maquinas_Reservas + 1, df_custos['CUSTO_TOTAL'].count()+1):\n",
    "\n",
    "            if df_custos['CUSTO_TOTAL'][a] - C_Min < C_HMP_RESER:\n",
    "                N_Maquinas_Reservas_Final = a\n",
    "            else:\n",
    "                N_Maquinas_Reservas_Final = N_Maquinas_Reservas_Final\n",
    "\n",
    "        if N_Maquinas_Reservas == N_Maquinas_Reservas_Final:\n",
    "            text = ('Serão alocadas ' +\n",
    "                  str(N_Maquinas_Reservas_Final) +\n",
    "                  ' máquinas reservas com o custo total de $' +\n",
    "                  \"{:.2f}\".format(round(df_custos['CUSTO_TOTAL'][N_Maquinas_Reservas_Final],2)).replace('.',',') +\n",
    "                  ' com a cobertura das ocorrências de ' +\n",
    "                  \"{:.2f}\".format(round(df['FREQ'][df['NUM_MAQ_QUE_HR'] <= N_Maquinas_Reservas_Final].sum()*100,2)).replace('.',',') +\n",
    "                  '%. Não houve a necessidade de alocar mais máquinas, pois o custo de alocação de mais uma máquina foi maior do que o custo da máquina reserva[$' +\n",
    "                  \"{:.2f}\".format(round(float(C_HMP_RESER),2)).replace('.',',') +\n",
    "                  '].')\n",
    "        else:\n",
    "            text = ('Serão alocadas ' +\n",
    "                  str(N_Maquinas_Reservas_Final) +\n",
    "                  ' máquinas reservas com o custo total de $' +\n",
    "                  \"{:.2f}\".format(round(df_custos['CUSTO_TOTAL'][N_Maquinas_Reservas_Final],2)).replace('.',',') +\n",
    "                  ' com a cobertura das ocorrências de ' +\n",
    "                  str(round(df['FREQ'][df['NUM_MAQ_QUE_HR'] <= N_Maquinas_Reservas_Final].sum()*100,2)).replace('.',',') +\n",
    "                  '%. Foram alocadas ' +\n",
    "                  str(N_Maquinas_Reservas_Final-N_Maquinas_Reservas) +\n",
    "                  ' máquinas a mais em relação ao custo mínimo da tabela, isto foi feito devido a diferença de custo de alocação dessas máquinas com custo mínimo [$' +\n",
    "                  \"{:.2f}\".format(round(df_custos['CUSTO_TOTAL'][N_Maquinas_Reservas_Final] - df_custos['CUSTO_TOTAL'][N_Maquinas_Reservas],2)).replace('.',',') +\n",
    "                  '] ser menor do que o custo de uma máquina reserva [$' +\n",
    "                  \"{:.2f}\".format(round(float(C_HMP_RESER),2)).replace('.',',') +\n",
    "                  ']. O custo mínimo ocorreria com '+\n",
    "                   str(N_Maquinas_Reservas) +\n",
    "                   ' máquinas reservas no valor de $' +\n",
    "                   \"{:.2f}\".format(round(C_Min,2)).replace('.',',') +\n",
    "                   '.')\n",
    "        display(widgets.HTML(value = '<br><b>Resposta:</b><br>' + text))\n",
    "        \n",
    "button.on_click(on_button_clicked)\n",
    "\n",
    "button_r.on_click(on_button_clicked_r)\n",
    "\n"
   ]
  },
  {
   "cell_type": "code",
   "execution_count": 8,
   "metadata": {},
   "outputs": [
    {
     "data": {
      "application/vnd.jupyter.widget-view+json": {
       "model_id": "11495a025927461aada6147248f0e491",
       "version_major": 2,
       "version_minor": 0
      },
      "text/plain": [
       "HTML(value='<header><h2> 03 - Atividade de máquina reserva  </h2></header>')"
      ]
     },
     "metadata": {},
     "output_type": "display_data"
    },
    {
     "data": {
      "application/vnd.jupyter.widget-view+json": {
       "model_id": "b678486e37074130a54cc3c14bd5f115",
       "version_major": 2,
       "version_minor": 0
      },
      "text/plain": [
       "GridspecLayout(children=(HTML(value='Matricula:', layout=Layout(grid_area='widget001')), Text(value='12.112.45…"
      ]
     },
     "metadata": {},
     "output_type": "display_data"
    }
   ],
   "source": [
    "header = widgets.HTML('<header><b> 03 - Atividade de máquina reserva  </b></header>')\n",
    "display(header)\n",
    "grid = GridspecLayout(2, 16,align_items='top', width='auto')\n",
    "grid[0, :8] = matricula_l\n",
    "grid[0, 8:16] = matricula\n",
    "grid[1, :8] = button\n",
    "grid[1, 8:16] = button_r\n",
    "# grid[1,:15] = output\n",
    "grid\n",
    "#12.112.451-5"
   ]
  },
  {
   "cell_type": "code",
   "execution_count": 4,
   "metadata": {},
   "outputs": [
    {
     "data": {
      "application/vnd.jupyter.widget-view+json": {
       "model_id": "cbc22f298d3941aaa3b42d970a66a6bb",
       "version_major": 2,
       "version_minor": 0
      },
      "text/plain": [
       "Output(layout=Layout(border='1px solid black'))"
      ]
     },
     "metadata": {},
     "output_type": "display_data"
    }
   ],
   "source": [
    "output"
   ]
  },
  {
   "cell_type": "code",
   "execution_count": 5,
   "metadata": {},
   "outputs": [],
   "source": [
    "output.layout.visibility = 'hidden'"
   ]
  },
  {
   "cell_type": "code",
   "execution_count": null,
   "metadata": {},
   "outputs": [],
   "source": []
  }
 ],
 "metadata": {
  "kernelspec": {
   "display_name": "Python 3",
   "language": "python",
   "name": "python3"
  },
  "language_info": {
   "codemirror_mode": {
    "name": "ipython",
    "version": 3
   },
   "file_extension": ".py",
   "mimetype": "text/x-python",
   "name": "python",
   "nbconvert_exporter": "python",
   "pygments_lexer": "ipython3",
   "version": "3.8.5"
  }
 },
 "nbformat": 4,
 "nbformat_minor": 4
}
